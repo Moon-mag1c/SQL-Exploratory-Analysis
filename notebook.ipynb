{
 "cells": [
  {
   "cell_type": "markdown",
   "metadata": {
    "dc": {
     "key": "3"
    },
    "deletable": false,
    "editable": false,
    "run_control": {
     "frozen": true
    },
    "tags": [
     "context"
    ]
   },
   "source": [
    "## 1. Farmers' Market Expansion\n",
    "<p>You have been hired by a farming organisation that helps local farmers sell their products. They want to know whether they should open up a new farmers' market to sell dairy products from nearby farmers. They have supplied you with daily shopping data from a panel of local households from 2019 to 2020. </p>\n",
    "<p>The organization will make their decision based on whether dairy products are popular in the area, and whether sales are trending in a positive direction. To answer these questions, they want three pieces of data:</p>\n",
    "<ol>\n",
    "<li>What was the total number of purchases of dairy products for each month of 2020 (i.e., the <code>total_sales</code>)?</li>\n",
    "<li>What was the total share of dairy products (out of all products purchased) for each month of 2020 (i.e., the <code>market_share</code>)?</li>\n",
    "<li>For each month of 2020, what was the percentage increase or decrease in total monthly dairy purchases compared to the same month in 2019 (i.e., the <code>year_change</code>)?</li>\n",
    "</ol>\n",
    "<p>The organization handles not only dairy farmers, but also those with chicken farms. As a result, they are only interested in these three categories (which they treat as dairy): ‘whole milk’, 'yogurt' and 'domestic eggs'.</p>\n",
    "<p>The data you need is available in the tables shown in the database schema below.</p>\n",
    "<h5 id=\"databaseschema\">Database Schema</h5>\n",
    "<p><img src=\"https://assets.datacamp.com/production/repositories/5960/datasets/463543c8c38957ca5b95d93b02f2cb1bec53334f/diagram.PNG\" alt=\"Database Schema\" width=\"400px\"></p>"
   ]
  },
  {
   "cell_type": "code",
   "execution_count": 29,
   "metadata": {
    "dc": {
     "key": "3"
    },
    "tags": [
     "sample_code"
    ]
   },
   "outputs": [
    {
     "name": "stdout",
     "output_type": "stream",
     "text": [
      "12 rows affected.\n"
     ]
    },
    {
     "data": {
      "text/html": [
       "<table>\n",
       "    <thead>\n",
       "        <tr>\n",
       "            <th>month</th>\n",
       "            <th>total_sales</th>\n",
       "            <th>market_share</th>\n",
       "            <th>year_change</th>\n",
       "        </tr>\n",
       "    </thead>\n",
       "    <tbody>\n",
       "        <tr>\n",
       "            <td>1</td>\n",
       "            <td>228</td>\n",
       "            <td>12.47</td>\n",
       "            <td>48.05</td>\n",
       "        </tr>\n",
       "        <tr>\n",
       "            <td>2</td>\n",
       "            <td>165</td>\n",
       "            <td>11.11</td>\n",
       "            <td>5.10</td>\n",
       "        </tr>\n",
       "        <tr>\n",
       "            <td>3</td>\n",
       "            <td>216</td>\n",
       "            <td>12.05</td>\n",
       "            <td>27.81</td>\n",
       "        </tr>\n",
       "        <tr>\n",
       "            <td>4</td>\n",
       "            <td>218</td>\n",
       "            <td>13.09</td>\n",
       "            <td>26.01</td>\n",
       "        </tr>\n",
       "        <tr>\n",
       "            <td>5</td>\n",
       "            <td>195</td>\n",
       "            <td>11.40</td>\n",
       "            <td>17.47</td>\n",
       "        </tr>\n",
       "        <tr>\n",
       "            <td>6</td>\n",
       "            <td>196</td>\n",
       "            <td>10.94</td>\n",
       "            <td>20.99</td>\n",
       "        </tr>\n",
       "        <tr>\n",
       "            <td>7</td>\n",
       "            <td>195</td>\n",
       "            <td>11.85</td>\n",
       "            <td>-0.51</td>\n",
       "        </tr>\n",
       "        <tr>\n",
       "            <td>8</td>\n",
       "            <td>231</td>\n",
       "            <td>11.77</td>\n",
       "            <td>32.00</td>\n",
       "        </tr>\n",
       "        <tr>\n",
       "            <td>9</td>\n",
       "            <td>180</td>\n",
       "            <td>11.16</td>\n",
       "            <td>4.65</td>\n",
       "        </tr>\n",
       "        <tr>\n",
       "            <td>10</td>\n",
       "            <td>193</td>\n",
       "            <td>11.61</td>\n",
       "            <td>17.68</td>\n",
       "        </tr>\n",
       "        <tr>\n",
       "            <td>11</td>\n",
       "            <td>223</td>\n",
       "            <td>12.55</td>\n",
       "            <td>36.81</td>\n",
       "        </tr>\n",
       "        <tr>\n",
       "            <td>12</td>\n",
       "            <td>162</td>\n",
       "            <td>10.42</td>\n",
       "            <td>8.72</td>\n",
       "        </tr>\n",
       "    </tbody>\n",
       "</table>"
      ],
      "text/plain": [
       "[(1, 228, Decimal('12.47'), Decimal('48.05')),\n",
       " (2, 165, Decimal('11.11'), Decimal('5.10')),\n",
       " (3, 216, Decimal('12.05'), Decimal('27.81')),\n",
       " (4, 218, Decimal('13.09'), Decimal('26.01')),\n",
       " (5, 195, Decimal('11.40'), Decimal('17.47')),\n",
       " (6, 196, Decimal('10.94'), Decimal('20.99')),\n",
       " (7, 195, Decimal('11.85'), Decimal('-0.51')),\n",
       " (8, 231, Decimal('11.77'), Decimal('32.00')),\n",
       " (9, 180, Decimal('11.16'), Decimal('4.65')),\n",
       " (10, 193, Decimal('11.61'), Decimal('17.68')),\n",
       " (11, 223, Decimal('12.55'), Decimal('36.81')),\n",
       " (12, 162, Decimal('10.42'), Decimal('8.72'))]"
      ]
     },
     "execution_count": 29,
     "metadata": {},
     "output_type": "execute_result"
    }
   ],
   "source": [
    "%%sql\n",
    "postgresql:///groceries\n",
    "\n",
    "WITH total_all AS (\n",
    "SELECT CAST(SUBSTRING(fulldate FROM 6 FOR 2) AS INTEGER) AS \"month\", \n",
    "COUNT(purchaseid) AS \"total_sales\"\n",
    "FROM purchases_2020\n",
    "JOIN categories\n",
    "ON purchases_2020.purchaseid = categories.purchase_id\n",
    "GROUP BY \"month\"\n",
    "ORDER BY \"month\"\n",
    "), total_dairy AS (\n",
    "SELECT CAST(SUBSTRING(fulldate FROM 6 FOR 2) AS INTEGER) AS \"month\", \n",
    "COUNT(purchaseid) AS \"total_sales\"\n",
    "FROM purchases_2020\n",
    "JOIN categories\n",
    "ON purchases_2020.purchaseid = categories.purchase_id\n",
    "WHERE category = 'whole milk' OR category = 'yogurt' OR category = 'domestic eggs'\n",
    "GROUP BY \"month\"\n",
    "ORDER BY \"month\"\n",
    "), total_dary_2019 AS (\n",
    "SELECT month, COUNT(purchases_2019.purchase_id) AS \"total_dary_2019\"\n",
    "FROM purchases_2019\n",
    "JOIN categories\n",
    "ON purchases_2019.purchase_id = categories.purchase_id\n",
    "WHERE category = 'whole milk' OR category = 'yogurt' OR category = 'domestic eggs'\n",
    "GROUP BY month\n",
    "ORDER BY month\n",
    ")\n",
    "\n",
    "SELECT D.month, D.total_sales, \n",
    "ROUND(CAST(CAST(D.total_sales AS FLOAT) / \n",
    "           CAST(A.total_sales AS FLOAT) * 100 AS NUMERIC), 2) AS \"market_share\",\n",
    "ROUND(CAST(CAST(D.total_sales - D19.total_dary_2019 AS FLOAT) \n",
    "/ D19.total_dary_2019 * 100 AS NUMERIC), 2) AS \"year_change\"\n",
    "FROM total_dairy D\n",
    "JOIN total_all A\n",
    "ON D.month = A.month\n",
    "JOIN total_dary_2019 D19\n",
    "ON D.month = D19.month\n",
    "\n"
   ]
  }
 ],
 "metadata": {
  "kernelspec": {
   "display_name": "Python 3 (ipykernel)",
   "language": "python",
   "name": "python3"
  },
  "language_info": {
   "codemirror_mode": {
    "name": "ipython",
    "version": 3
   },
   "file_extension": ".py",
   "mimetype": "text/x-python",
   "name": "python",
   "nbconvert_exporter": "python",
   "pygments_lexer": "ipython3",
   "version": "3.9.7"
  }
 },
 "nbformat": 4,
 "nbformat_minor": 2
}
